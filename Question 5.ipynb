{
 "cells": [
  {
   "cell_type": "code",
   "execution_count": 99,
   "id": "bce16cae",
   "metadata": {},
   "outputs": [],
   "source": [
    "%matplotlib inline\n",
    "import numpy as np\n",
    "import scipy as sp\n",
    "import scipy.stats as sps\n",
    "import matplotlib.pyplot as plt\n",
    "import pandas as pd\n",
    "import math\n",
    "import seaborn as sns"
   ]
  },
  {
   "cell_type": "code",
   "execution_count": 100,
   "id": "7ff913da",
   "metadata": {},
   "outputs": [],
   "source": [
    "data = pd.read_excel(\"project_data.xlsx\")\n"
   ]
  },
  {
   "cell_type": "code",
   "execution_count": 101,
   "id": "d1252509",
   "metadata": {},
   "outputs": [],
   "source": [
    "interval_A = data.iloc[72:120,2:]\n",
    "interval_B = data.iloc[180:228,2:]\n",
    "log_ret_A = np.log(1+interval_A)\n",
    "log_ret_B = np.log(1+interval_B)"
   ]
  },
  {
   "cell_type": "code",
   "execution_count": 104,
   "id": "48dabcda",
   "metadata": {},
   "outputs": [],
   "source": [
    "alpha_A = np.mean(log_ret_A)\n",
    "alpha_B = np.mean(log_ret_B)\n",
    "beta_A = log_ret_A.cov()\n",
    "beta_B = log_ret_B.cov()\n",
    "\n",
    "#yearly avg:\n",
    "\n",
    "alpha_Ay = alpha_A*24\n",
    "alpha_By = alpha_B*24\n",
    "beta_Ay = beta_A*24\n",
    "beta_By = beta_B*24"
   ]
  },
  {
   "cell_type": "code",
   "execution_count": 124,
   "id": "e4e14be9",
   "metadata": {},
   "outputs": [],
   "source": [
    "alpha_Ay = ([-0.029773,0.072023,-0.211618,0.045239,0.062290,0.079603,0.054538])"
   ]
  },
  {
   "cell_type": "code",
   "execution_count": 125,
   "id": "cc748555",
   "metadata": {},
   "outputs": [
    {
     "data": {
      "text/plain": [
       "array([[1.],\n",
       "       [1.],\n",
       "       [1.],\n",
       "       [1.],\n",
       "       [1.],\n",
       "       [1.],\n",
       "       [1.]])"
      ]
     },
     "execution_count": 125,
     "metadata": {},
     "output_type": "execute_result"
    }
   ],
   "source": [
    "e = np.ones((7,1));\n",
    "e_T = np.transpose(e)\n",
    "beta_Ay_inv = np.linalg.inv(beta_Ay)\n",
    "e"
   ]
  },
  {
   "cell_type": "code",
   "execution_count": 126,
   "id": "4eb158c8",
   "metadata": {},
   "outputs": [],
   "source": [
    "a = e_T*beta_Ay_inv*e\n",
    "b = e_T*beta_Ay_inv*alpha_Ay\n",
    "gamma = 1\n",
    "weights = (beta_Ay_inv*alpha_Ay - ((b - 1)/a)*beta_Ay_inv*e_T)"
   ]
  },
  {
   "cell_type": "code",
   "execution_count": 127,
   "id": "924e4b26",
   "metadata": {},
   "outputs": [
    {
     "data": {
      "text/plain": [
       "array([[1., 1., 1., 1., 1., 1., 1.],\n",
       "       [1., 1., 1., 1., 1., 1., 1.],\n",
       "       [1., 1., 1., 1., 1., 1., 1.],\n",
       "       [1., 1., 1., 1., 1., 1., 1.],\n",
       "       [1., 1., 1., 1., 1., 1., 1.],\n",
       "       [1., 1., 1., 1., 1., 1., 1.],\n",
       "       [1., 1., 1., 1., 1., 1., 1.]])"
      ]
     },
     "execution_count": 127,
     "metadata": {},
     "output_type": "execute_result"
    }
   ],
   "source": [
    "weights"
   ]
  },
  {
   "cell_type": "code",
   "execution_count": null,
   "id": "0ab9f295",
   "metadata": {},
   "outputs": [],
   "source": []
  },
  {
   "cell_type": "code",
   "execution_count": null,
   "id": "63ff0f47",
   "metadata": {},
   "outputs": [],
   "source": []
  },
  {
   "cell_type": "code",
   "execution_count": null,
   "id": "e2cee9aa",
   "metadata": {},
   "outputs": [],
   "source": []
  }
 ],
 "metadata": {
  "kernelspec": {
   "display_name": "Python 3 (ipykernel)",
   "language": "python",
   "name": "python3"
  },
  "language_info": {
   "codemirror_mode": {
    "name": "ipython",
    "version": 3
   },
   "file_extension": ".py",
   "mimetype": "text/x-python",
   "name": "python",
   "nbconvert_exporter": "python",
   "pygments_lexer": "ipython3",
   "version": "3.9.7"
  }
 },
 "nbformat": 4,
 "nbformat_minor": 5
}
